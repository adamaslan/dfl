{
 "cells": [
  {
   "cell_type": "code",
   "execution_count": null,
   "metadata": {},
   "outputs": [
    {
     "name": "stdout",
     "output_type": "stream",
     "text": [
      " * Serving Flask app '__main__'\n",
      " * Debug mode: off\n"
     ]
    },
    {
     "name": "stderr",
     "output_type": "stream",
     "text": [
      "WARNING: This is a development server. Do not use it in a production deployment. Use a production WSGI server instead.\n",
      " * Running on http://127.0.0.1:5000\n",
      "Press CTRL+C to quit\n",
      "127.0.0.1 - - [28/Feb/2025 22:03:10] \"GET /api/zodiac-vegetables HTTP/1.1\" 200 -\n",
      "127.0.0.1 - - [28/Feb/2025 22:03:10] \"GET /api/zodiac-vegetables HTTP/1.1\" 200 -\n"
     ]
    }
   ],
   "source": [
    "# backend/app.py\n",
    "from flask import Flask, jsonify\n",
    "from flask_cors import CORS\n",
    "\n",
    "app = Flask(__name__)\n",
    "CORS(app)\n",
    "\n",
    "@app.route('/api/zodiac-vegetables')\n",
    "def get_zodiac_vegetables():\n",
    "    return jsonify({\n",
    "        \"zodiacSigns\": {\n",
    "            \"Aries\": [\"Radish\", \"Garlic\", \"Onion\", \"Pepper\"],\n",
    "            \"Taurus\": [\"Spinach\", \"Potato\", \"Beetroot\", \"Cabbage\"],\n",
    "            \"Gemini\": [\"Peas\", \"Carrot\", \"Celery\", \"Marjoram\"],\n",
    "            \"Cancer\": [\"Cucumber\", \"Mushroom\", \"Watercress\", \"Lettuce\"],\n",
    "            \"Leo\": [\"Sunflower\", \"Squash\", \"Olive\", \"Citrus\"],\n",
    "            \"Virgo\": [\"Barley\", \"Wheat\", \"Parsley\", \"Endive\"],\n",
    "            \"Libra\": [\"Broccoli\", \"Cauliflower\", \"Asparagus\", \"Mint\"],\n",
    "            \"Scorpio\": [\"Rhubarb\", \"Horseradish\", \"Basil\", \"Chives\"],\n",
    "            \"Sagittarius\": [\"Turnip\", \"Sage\", \"Chestnut\", \"Rosemary\"],\n",
    "            \"Capricorn\": [\"Kale\", \"Parsnip\", \"Comfrey\", \"Beech\"],\n",
    "            \"Aquarius\": [\"Leek\", \"Shallot\", \"Fennel\", \"Dandelion\"],\n",
    "            \"Pisces\": [\"Seaweed\", \"Water Chestnut\", \"Bamboo\", \"Lotus\"]\n",
    "        }\n",
    "    })\n",
    "\n",
    "if __name__ == '__main__':\n",
    "    app.run(port=5000)"
   ]
  },
  {
   "cell_type": "code",
   "execution_count": 2,
   "metadata": {},
   "outputs": [
    {
     "name": "stdout",
     "output_type": "stream",
     "text": [
      " * Serving Flask app '__main__'\n",
      " * Debug mode: off\n"
     ]
    },
    {
     "name": "stderr",
     "output_type": "stream",
     "text": [
      "WARNING: This is a development server. Do not use it in a production deployment. Use a production WSGI server instead.\n",
      " * Running on http://127.0.0.1:5000\n",
      "Press CTRL+C to quit\n",
      "127.0.0.1 - - [28/Feb/2025 22:00:42] \"GET /api/zodiac-vegetables HTTP/1.1\" 200 -\n",
      "127.0.0.1 - - [28/Feb/2025 22:00:42] \"GET /api/zodiac-vegetables HTTP/1.1\" 200 -\n",
      "127.0.0.1 - - [28/Feb/2025 22:00:58] \"OPTIONS /chat HTTP/1.1\" 404 -\n"
     ]
    }
   ],
   "source": [
    "from flask_cors import CORS, cross_origin\n",
    "from flask import Flask, jsonify\n",
    "\n",
    "app = Flask(__name__)\n",
    "CORS(app)  # Enables CORS for all routes\n",
    "\n",
    "@app.route('/api/zodiac-vegetables')\n",
    "@cross_origin()  # Explicitly enable CORS for this endpoint\n",
    "def get_zodiac_vegetables():\n",
    "    return jsonify({\n",
    "        \"zodiacSigns\": {\n",
    "            \"Aries\": [\"Radish\", \"Garlic\", \"Onion\", \"Pepper\"],\n",
    "            \"Taurus\": [\"Spinach\", \"Potato\", \"Beetroot\", \"Cabbage\"],\n",
    "            \"Gemini\": [\"Peas\", \"Carrot\", \"Celery\", \"Marjoram\"],\n",
    "            \"Cancer\": [\"Cucumber\", \"Mushroom\", \"Watercress\", \"Lettuce\"],\n",
    "            \"Leo\": [\"Sunflower\", \"Squash\", \"Olive\", \"Citrus\"],\n",
    "            \"Virgo\": [\"Barley\", \"Wheat\", \"Parsley\", \"Endive\"],\n",
    "            \"Libra\": [\"Broccoli\", \"Cauliflower\", \"Asparagus\", \"Mint\"],\n",
    "            \"Scorpio\": [\"Rhubarb\", \"Horseradish\", \"Basil\", \"Chives\"],\n",
    "            \"Sagittarius\": [\"Turnip\", \"Sage\", \"Chestnut\", \"Rosemary\"],\n",
    "            \"Capricorn\": [\"Kale\", \"Parsnip\", \"Comfrey\", \"Beech\"],\n",
    "            \"Aquarius\": [\"Leek\", \"Shallot\", \"Fennel\", \"Dandelion\"],\n",
    "            \"Pisces\": [\"Seaweed\", \"Water Chestnut\", \"Bamboo\", \"Lotus\"]\n",
    "        }\n",
    "    })\n",
    "\n",
    "if __name__ == '__main__':\n",
    "    app.run(port=5000)\n"
   ]
  }
 ],
 "metadata": {
  "kernelspec": {
   "display_name": "nunu24",
   "language": "python",
   "name": "python3"
  },
  "language_info": {
   "codemirror_mode": {
    "name": "ipython",
    "version": 3
   },
   "file_extension": ".py",
   "mimetype": "text/x-python",
   "name": "python",
   "nbconvert_exporter": "python",
   "pygments_lexer": "ipython3",
   "version": "3.12.7"
  }
 },
 "nbformat": 4,
 "nbformat_minor": 2
}
